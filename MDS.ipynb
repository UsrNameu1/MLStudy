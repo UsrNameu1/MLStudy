{
 "cells": [
  {
   "cell_type": "code",
   "execution_count": 1,
   "metadata": {
    "collapsed": true
   },
   "outputs": [],
   "source": [
    "import numpy as np\n",
    "from sklearn import manifold\n",
    "import matplotlib.pyplot as plt\n",
    "%matplotlib inline"
   ]
  },
  {
   "cell_type": "code",
   "execution_count": 2,
   "metadata": {
    "collapsed": false
   },
   "outputs": [],
   "source": [
    "datum = np.loadtxt(\"park_time.csv\",delimiter=\",\",usecols=range(1,11))"
   ]
  },
  {
   "cell_type": "code",
   "execution_count": 3,
   "metadata": {
    "collapsed": false
   },
   "outputs": [
    {
     "data": {
      "text/plain": [
       "array([[   0.,   70.,   60.,   90.,   70.,   60.,   80.,  100.,  110.,\n",
       "          80.],\n",
       "       [  70.,    0.,   60.,   80.,   50.,   40.,   20.,   70.,   80.,\n",
       "          60.],\n",
       "       [  60.,   60.,    0.,   70.,   50.,   40.,   70.,   80.,   90.,\n",
       "          90.],\n",
       "       [  90.,   80.,   70.,    0.,   50.,   60.,   70.,   70.,   80.,\n",
       "         100.],\n",
       "       [  70.,   50.,   50.,   50.,    0.,   40.,   50.,   40.,   40.,\n",
       "          60.],\n",
       "       [  60.,   40.,   40.,   60.,   40.,    0.,   40.,   70.,   80.,\n",
       "          60.],\n",
       "       [  80.,   20.,   70.,   70.,   50.,   40.,    0.,   70.,   80.,\n",
       "          60.],\n",
       "       [ 100.,   70.,   80.,   70.,   40.,   70.,   70.,    0.,   40.,\n",
       "          90.],\n",
       "       [ 110.,   80.,   90.,   80.,   40.,   80.,   80.,   40.,    0.,\n",
       "         100.],\n",
       "       [  80.,   60.,   90.,  100.,   60.,   60.,   60.,   90.,  100.,\n",
       "           0.]])"
      ]
     },
     "execution_count": 3,
     "metadata": {},
     "output_type": "execute_result"
    }
   ],
   "source": [
    "datum"
   ]
  },
  {
   "cell_type": "code",
   "execution_count": 4,
   "metadata": {
    "collapsed": false
   },
   "outputs": [],
   "source": [
    "mds = manifold.MDS(n_components=2, dissimilarity=\"precomputed\", random_state=6)"
   ]
  },
  {
   "cell_type": "code",
   "execution_count": 5,
   "metadata": {
    "collapsed": false
   },
   "outputs": [],
   "source": [
    "pos = mds.fit_transform(datum)"
   ]
  },
  {
   "cell_type": "code",
   "execution_count": 6,
   "metadata": {
    "collapsed": false
   },
   "outputs": [
    {
     "data": {
      "text/plain": [
       "array([[ -1.02823007, -64.28599723],\n",
       "       [ 23.77000051, -10.17421639],\n",
       "       [-31.85280781, -31.66110601],\n",
       "       [-54.09881243,  10.50741014],\n",
       "       [ -7.8779374 ,  15.29415345],\n",
       "       [ -3.32424227, -17.3459525 ],\n",
       "       [ 27.59045382,   3.68202695],\n",
       "       [-16.08682522,  47.2559179 ],\n",
       "       [  2.50497688,  62.30291613],\n",
       "       [ 60.40342398, -15.57515243]])"
      ]
     },
     "execution_count": 6,
     "metadata": {},
     "output_type": "execute_result"
    }
   ],
   "source": [
    "pos"
   ]
  },
  {
   "cell_type": "code",
   "execution_count": 7,
   "metadata": {
    "collapsed": false
   },
   "outputs": [],
   "source": [
    "labels = np.genfromtxt(\"park_time.csv\",delimiter=\",\",usecols=0,dtype=str)"
   ]
  },
  {
   "cell_type": "code",
   "execution_count": 8,
   "metadata": {
    "collapsed": false
   },
   "outputs": [
    {
     "data": {
      "text/plain": [
       "array(['minamoto', 'kasairinkai', 'toneri', 'hikarigaoka', 'yoyogi',\n",
       "       'ueno', 'yumenoshima', 'komazawa', 'kinuta', 'shinozaki'], \n",
       "      dtype='|S11')"
      ]
     },
     "execution_count": 8,
     "metadata": {},
     "output_type": "execute_result"
    }
   ],
   "source": [
    "labels"
   ]
  },
  {
   "cell_type": "code",
   "execution_count": 11,
   "metadata": {
    "collapsed": false
   },
   "outputs": [
    {
     "data": {
      "image/png": "[encoded data removed]",
      "text/plain": [
       "<matplotlib.figure.Figure at 0x117959d10>"
      ]
     },
     "metadata": {},
     "output_type": "display_data"
    }
   ],
   "source": [
    "plt.scatter(pos[:, 0], pos[:, 1], marker = 'o')\n",
    "\n",
    "for label, x, y in zip(labels, pos[:, 0], pos[:, 1]):\n",
    "    plt.annotate(\n",
    "        label,\n",
    "        xy = (x, y), xytext = (70, -20),\n",
    "        textcoords = 'offset points', ha = 'right', va = 'bottom',\n",
    "        bbox = dict(boxstyle = 'round,pad=0.5', fc = 'yellow', alpha = 0.5),\n",
    "        arrowprops = dict(arrowstyle = '->', connectionstyle = 'arc3,rad=0')\n",
    "    )\n",
    "\n",
    "plt.show()"
   ]
  },
  {
   "cell_type": "code",
   "execution_count": 10,
   "metadata": {
    "collapsed": false
   },
   "outputs": [
    {
     "data": {
      "image/png": "[encoded data removed]",
      "text/plain": [
       "<matplotlib.figure.Figure at 0x11794d810>"
      ]
     },
     "metadata": {},
     "output_type": "display_data"
    }
   ],
   "source": [
    "plt.figure()\n",
    "\n",
    "angle = 120.\n",
    "theta = (angle/180.) * np.pi\n",
    "\n",
    "rotMatrix = np.array([[np.cos(theta), -np.sin(theta)], \n",
    "                         [np.sin(theta),  np.cos(theta)]])\n",
    "revMatrix = np.array([[-1, 0], [0, 1]])\n",
    "\n",
    "fixed_pos = rotMatrix.dot(revMatrix.dot(pos.T)).T\n",
    "plt.scatter(fixed_pos[:, 0], fixed_pos[:, 1], marker = 'o')\n",
    "\n",
    "for label, x, y in zip(labels, fixed_pos[:, 0], fixed_pos[:, 1]):\n",
    "    plt.annotate(\n",
    "        label,\n",
    "        xy = (x, y), xytext = (60, 10),\n",
    "        textcoords = 'offset points', ha = 'right', va = 'bottom',\n",
    "        bbox = dict(boxstyle = 'round,pad=0.5', fc = 'yellow', alpha = 0.5),\n",
    "        arrowprops = dict(arrowstyle = '->', connectionstyle = 'arc3,rad=0')\n",
    "    )\n",
    "\n",
    "plt.show()"
   ]
  },
  {
   "cell_type": "code",
   "execution_count": null,
   "metadata": {
    "collapsed": true
   },
   "outputs": [],
   "source": []
  }
 ],
 "metadata": {
  "kernelspec": {
   "display_name": "Python 2",
   "language": "python",
   "name": "python2"
  },
  "language_info": {
   "codemirror_mode": {
    "name": "ipython",
    "version": 2
   },
   "file_extension": ".py",
   "mimetype": "text/x-python",
   "name": "python",
   "nbconvert_exporter": "python",
   "pygments_lexer": "ipython2",
   "version": "2.7.11"
  }
 },
 "nbformat": 4,
 "nbformat_minor": 0
}
