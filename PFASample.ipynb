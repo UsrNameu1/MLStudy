{
 "cells": [
  {
   "cell_type": "code",
   "execution_count": 2,
   "metadata": {
    "collapsed": true
   },
   "outputs": [],
   "source": [
    "from titus.genpy import PFAEngine\n",
    "import csv\n",
    "\n",
    "pfaDocument = {\n",
    "    \"input\": {\"type\": \"record\",\n",
    "              \"name\": \"Iris\",\n",
    "              \"fields\": [\n",
    "                  {\"name\": \"sepal_length_cm\", \"type\": \"double\"},\n",
    "                  {\"name\": \"sepal_width_cm\", \"type\": \"double\"},\n",
    "                  {\"name\": \"petal_length_cm\", \"type\": \"double\"},\n",
    "                  {\"name\": \"petal_width_cm\", \"type\": \"double\"},\n",
    "                  {\"name\": \"class\", \"type\": \"string\"}\n",
    "              ]},\n",
    "    \"output\": \"string\",\n",
    "    \"action\": [\n",
    "        {\"if\": {\"<\": [\"input.petal_length_cm\", 2.5]},\n",
    "         \"then\": {\"string\": \"Iris-setosa\"},\n",
    "         \"else\":\n",
    "             {\"if\": {\"<\": [\"input.petal_length_cm\", 4.8]},\n",
    "              \"then\": {\"string\": \"Iris-versicolor\"},\n",
    "              \"else\":\n",
    "                  {\"if\": {\"<\": [\"input.petal_width_cm\", 1.7]},\n",
    "                  \"then\": {\"string\": \"Iris-versicolor\"},\n",
    "                  \"else\": {\"string\": \"Iris-virginica\"}}\n",
    "             }\n",
    "        }\n",
    "    ]}\n",
    "engine, = PFAEngine.fromJson(pfaDocument)\n",
    "\n",
    "dataset = csv.reader(open(\"iris.csv\"))\n",
    "fields = dataset.next()\n",
    "\n",
    "numCorrect = 0.0\n",
    "numTotal = 0.0\n",
    "for datum in dataset:\n",
    "    asRecord = dict(zip(fields, datum))\n",
    "    if engine.action(asRecord) == asRecord[\"class\"]:\n",
    "        numCorrect += 1.0\n",
    "    numTotal += 1.0\n",
    "\n",
    "print \"accuracy\", numCorrect/numTotal"
   ]
  },
  {
   "cell_type": "code",
   "execution_count": 3,
   "metadata": {
    "collapsed": true
   },
   "outputs": [],
   "source": []
  },
  {
   "cell_type": "code",
   "execution_count": 4,
   "metadata": {
    "collapsed": false
   },
   "outputs": [
    {
     "name": "stdout",
     "output_type": "stream",
     "text": [
      "accuracy 0.953333333333\n"
     ]
    }
   ],
   "source": []
  },
  {
   "cell_type": "code",
   "execution_count": null,
   "metadata": {
    "collapsed": true
   },
   "outputs": [],
   "source": []
  }
 ],
 "metadata": {
  "kernelspec": {
   "display_name": "Python 2",
   "language": "python",
   "name": "python2"
  },
  "language_info": {
   "codemirror_mode": {
    "name": "ipython",
    "version": 2
   },
   "file_extension": ".py",
   "mimetype": "text/x-python",
   "name": "python",
   "nbconvert_exporter": "python",
   "pygments_lexer": "ipython2",
   "version": "2.7.11"
  }
 },
 "nbformat": 4,
 "nbformat_minor": 0
}
